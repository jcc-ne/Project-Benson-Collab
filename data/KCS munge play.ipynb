{
 "cells": [
  {
   "cell_type": "code",
   "execution_count": null,
   "metadata": {
    "collapsed": false
   },
   "outputs": [],
   "source": [
    "import pandas\n",
    "import numpy as np\n",
    "import matplotlib.pyplot as plt\n",
    "%matplotlib inline\n",
    "df = pandas.read_csv(\"Saturday, April 02, 2016\") \n",
    "df.columns = ['C/A','UNIT','SCP','STATION','LINENAME','DIVISION','DATE','TIME','DESC','IN','OUT']\n",
    "df = df[['UNIT', 'SCP', 'DATE', 'TIME', \"IN\", \"OUT\"]]\n",
    "df.head(5)"
   ]
  },
  {
   "cell_type": "code",
   "execution_count": null,
   "metadata": {
    "collapsed": false
   },
   "outputs": [],
   "source": [
    "# Create a coordinates look up table and add a column\n",
    "\n",
    "geocode = pandas.read_csv('geocoded.csv', header=None)\n",
    "geocode = geocode.drop_duplicates(0)\n",
    "geocode = geocode[[0,5,6]]\n",
    "geocode.columns = ['UNIT', 'LAT', 'LON']\n",
    "geocode_mapping = {row.values[0]:[row[1], row[2]] for index,row in geocode.iterrows()}\n",
    "\n",
    "def map(unit):\n",
    "    try:\n",
    "        return geocode_mapping[unit]\n",
    "    except:\n",
    "        return np.nan\n",
    "\n",
    "df['COORD'] = df['UNIT'].apply(map)"
   ]
  },
  {
   "cell_type": "code",
   "execution_count": null,
   "metadata": {
    "collapsed": false
   },
   "outputs": [],
   "source": [
    "df.head(5)"
   ]
  },
  {
   "cell_type": "code",
   "execution_count": null,
   "metadata": {
    "collapsed": false
   },
   "outputs": [],
   "source": [
    "#Add the times as datetime objects\n",
    "\n",
    "import datetime\n",
    "df[\"DATETIME\"] = df[\"DATE\"]+ ' ' + df[\"TIME\"]\n",
    "df[\"DATETIME\"] = pandas.to_datetime(df[\"DATETIME\"])"
   ]
  },
  {
   "cell_type": "code",
   "execution_count": null,
   "metadata": {
    "collapsed": false
   },
   "outputs": [],
   "source": [
    "def classify_day(time):\n",
    "    if time.isoweekday() in range(1,6):\n",
    "        return \"Weekday\"\n",
    "    else:\n",
    "        return \"Weekend\"\n",
    "\n",
    "df[\"DAY\"] = df['DAY'].apply(classify_day)"
   ]
  },
  {
   "cell_type": "code",
   "execution_count": null,
   "metadata": {
    "collapsed": false
   },
   "outputs": [],
   "source": [
    "def classify_time(time):\n",
    "    if 5 <= time.hour <= 9:\n",
    "        return \"Morning\"\n",
    "    elif 17 < time.hour < 22:\n",
    "        return \"Evening\"\n",
    "    else:\n",
    "        return None\n",
    "df[\"M_E\"] = df['DATETIME'].apply(classify_time)"
   ]
  },
  {
   "cell_type": "code",
   "execution_count": null,
   "metadata": {
    "collapsed": false
   },
   "outputs": [],
   "source": [
    "df.head()"
   ]
  },
  {
   "cell_type": "code",
   "execution_count": null,
   "metadata": {
    "collapsed": false
   },
   "outputs": [],
   "source": [
    "masterDF = pandas.DataFrame(columns=['UNIT', 'IN', 'OUT', 'COORDS'])\n",
    "DAY = 'Weekday'\n",
    "M_E = \"Evening\"\n",
    "for unit, group in df.groupby(['UNIT']):\n",
    "    \n",
    "    # Filter for weekday mornings\n",
    "    day = group[group.DAY == DAY]\n",
    "    timeOfDay = day[day.M_E == M_E]\n",
    "    \n",
    "    IN = timeOfDay.IN.values; OUT = timeOfDay.OUT.values\n",
    "    IN = IN[1:] - IN[:-1] # convert from cumulative\n",
    "    OUT = OUT[1:] - OUT[:-1]\n",
    "    mask = (IN >= 0) & (IN < 1e4) & (OUT >= 0) & (OUT < 1e4)\n",
    "    masterDF.loc[len(masterDF)] = (unit, IN[mask].sum(), \n",
    "                                   OUT[mask].sum(), group['COORD'].iloc[0])\n",
    "\n",
    "    print \"%s STATION FINISHED\"%unit\n",
    "\n",
    "masterDF.to_csv(\"SaturdayApril022016-%s-%s\"%(DAY, M_E))\n",
    "    \n"
   ]
  },
  {
   "cell_type": "code",
   "execution_count": null,
   "metadata": {
    "collapsed": false
   },
   "outputs": [],
   "source": [
    "%matplotlib inline\n",
    "from mpl_toolkits.basemap import Basemap\n",
    "plt.figure(figsize=(12,12))\n",
    "\n",
    "for i, masterDF in enumerate([pandas.read_csv(\"SaturdayApril022016-Weekday-Mornings\"),\n",
    "                pandas.read_csv(\"SaturdayApril022016-Weekday-Evening\")]):\n",
    "    \n",
    "    plt.subplot(2,1,i)\n",
    "    my_map = Basemap(projection='merc', resolution = 'l',\n",
    "        llcrnrlon=-74.1, llcrnrlat=40.7,\n",
    "        urcrnrlon=-73.9, urcrnrlat=40.8)\n",
    "\n",
    "    #    llcrnrlon=-74.2, llcrnrlat=40.5,\n",
    "    #    urcrnrlon=-73.7, urcrnrlat=41)\n",
    "\n",
    "    my_map.drawcoastlines()\n",
    "    my_map.drawcountries()\n",
    "    #my_map.fillcontinents(color='coral')\n",
    "    my_map.drawmapboundary()\n",
    "\n",
    "    #my_map.drawmeridians(np.arange(0, 360, 30))\n",
    "    #my_map.drawparallels(np.arange(-90, 90, 30))\n",
    "\n",
    "    masterDF = masterDF.dropna(subset=['COORDS', 'IN', 'OUT'])\n",
    "\n",
    "    mycolmap = plt.get_cmap(\"seismic\")\n",
    "    colors = masterDF['IN'] - masterDF['OUT']\n",
    "    sizes = 60*(masterDF['IN'] + masterDF['OUT']) / (masterDF['IN'] + masterDF['OUT']).max()\n",
    "    coords = list(masterDF['COORDS'].astype(list))\n",
    "    lon = [coord[0] for coord in coords]\n",
    "    lat = [coord[1] for coord in coords]\n",
    "    x,y = my_map(lat, lon)\n",
    "    plt.scatter(x, y, c=colors, cmap=mycolmap, s=sizes)\n",
    "    \n",
    "plt.colorbar()\n",
    "plt.show()\n",
    "\n"
   ]
  },
  {
   "cell_type": "code",
   "execution_count": null,
   "metadata": {
    "collapsed": true
   },
   "outputs": [],
   "source": []
  }
 ],
 "metadata": {
  "kernelspec": {
   "display_name": "Python 2",
   "language": "python",
   "name": "python2"
  },
  "language_info": {
   "codemirror_mode": {
    "name": "ipython",
    "version": 2
   },
   "file_extension": ".py",
   "mimetype": "text/x-python",
   "name": "python",
   "nbconvert_exporter": "python",
   "pygments_lexer": "ipython2",
   "version": "2.7.6"
  }
 },
 "nbformat": 4,
 "nbformat_minor": 0
}
